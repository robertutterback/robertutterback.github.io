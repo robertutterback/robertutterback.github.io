{
 "cells": [
  {
   "attachments": {},
   "cell_type": "markdown",
   "metadata": {},
   "source": [
    "# Homework 5"
   ]
  },
  {
   "attachments": {},
   "cell_type": "markdown",
   "metadata": {},
   "source": [
    "This assignment is optional, for bonus points. **Due Wednesday, December 7 by midnight**. Submit via email. You may work in pairs.\n",
    "\n",
    "This assignment is based on one given by Andreas Mueller.\n",
    "\n",
    "Notes:\n",
    "\n",
    "- **Unless you have a good GPU, training these networks can take a long time. I recommend using [Google Colab](https://colab.research.google.com/), which gives you free access to GPUs.**\n",
    "- You may need to preprocess the images before training, especially when reusing existing architectures."
   ]
  },
  {
   "attachments": {},
   "cell_type": "markdown",
   "metadata": {},
   "source": [
    "## Question 1 (10 points)\n",
    "\n",
    "Train a multilayer perceptron (a densely connected sequential neural network) on\n",
    "the \"digits\" dataset from `sklearn`. Further requirements:\n",
    "\n",
    "- Use exactly 2 hidden layers\n",
    "- Use rectified linear nonlinearities ('relu')\n",
    "- Grid search over L2 regularization strength and number of hidden units\n",
    "- Evaluate the results on a held-out test set\n",
    "\n",
    "\n",
    "**You will do this twice -- once with\n",
    "`sklearn` and once with `keras`**."
   ]
  },
  {
   "cell_type": "code",
   "execution_count": null,
   "metadata": {},
   "outputs": [],
   "source": [
    "# `sklearn` code here"
   ]
  },
  {
   "cell_type": "code",
   "execution_count": null,
   "metadata": {},
   "outputs": [],
   "source": [
    "# `keras` code here"
   ]
  },
  {
   "attachments": {},
   "cell_type": "markdown",
   "metadata": {},
   "source": [
    "## Question 2 (35 points)\n",
    "\n",
    "Train a fully-connected NN on the Fashion MNIST dataset. This dataset comes with\n",
    "`keras`. Use the train/test split that `keras` gives you.\n",
    "\n",
    "Compare a 'vanilla' model vs. drop-out vs. batch normalization. See if the\n",
    "latter two can let you train bigger, and more accurate, models.\n",
    "\n",
    "Visualize the learning curves for all models."
   ]
  },
  {
   "cell_type": "code",
   "execution_count": null,
   "metadata": {},
   "outputs": [],
   "source": [
    "from keras.datasets.fashion_mnist import load_data"
   ]
  },
  {
   "attachments": {},
   "cell_type": "markdown",
   "metadata": {},
   "source": [
    "## Question 3 (55 points)\n",
    "\n",
    "Train a convolutional NN on the following dataset: https://lhncbc.nlm.nih.gov/publication/pub9932\n",
    "\n",
    "The point is to classify whether or not a cell is infected with malaria."
   ]
  },
  {
   "attachments": {},
   "cell_type": "markdown",
   "metadata": {},
   "source": [
    "### (a) Basic Convolutional Model\n",
    "\n",
    "Use a basic convolutional model **without** residual connections. You may use batch normalization or dropout if you'd like."
   ]
  },
  {
   "cell_type": "code",
   "execution_count": null,
   "metadata": {},
   "outputs": [],
   "source": []
  },
  {
   "attachments": {},
   "cell_type": "markdown",
   "metadata": {},
   "source": [
    "### (b) Data Augmentation\n",
    "\n",
    "Augment the data using rotations, mirroring, and possibly other transformations. How much can you improve your original model?"
   ]
  },
  {
   "cell_type": "code",
   "execution_count": null,
   "metadata": {},
   "outputs": [],
   "source": []
  },
  {
   "attachments": {},
   "cell_type": "markdown",
   "metadata": {},
   "source": [
    "### (c) Residual Connections\n",
    "\n",
    "Build a deeper model with residual connections. Show that without the residual connections, the deeper model would not be effective.\n",
    "\n",
    "Feel free to reuse existing architectures from `keras`, but train your weights from scratch."
   ]
  },
  {
   "cell_type": "code",
   "execution_count": null,
   "metadata": {},
   "outputs": [],
   "source": []
  },
  {
   "attachments": {},
   "cell_type": "markdown",
   "metadata": {},
   "source": [
    "### (d) Transfer Learning\n",
    "\n",
    "Reuse an existing architecture and its pre-trained weights from `keras`. Compare\n",
    "\"freezing\" (retraining only the densely connected layers) with fine-tuning the\n",
    "whole network."
   ]
  },
  {
   "cell_type": "code",
   "execution_count": null,
   "metadata": {},
   "outputs": [],
   "source": []
  },
  {
   "attachments": {},
   "cell_type": "markdown",
   "metadata": {},
   "source": [
    "###"
   ]
  }
 ],
 "metadata": {
  "kernelspec": {
   "display_name": "Python 3 (ipykernel)",
   "language": "python",
   "name": "python3"
  },
  "language_info": {
   "codemirror_mode": {
    "name": "ipython",
    "version": 3
   },
   "file_extension": ".py",
   "mimetype": "text/x-python",
   "name": "python",
   "nbconvert_exporter": "python",
   "pygments_lexer": "ipython3",
   "version": "3.9.5"
  },
  "vscode": {
   "interpreter": {
    "hash": "81794d4967e6c3204c66dcd87b604927b115b27c00565d3d43f05ba2f3a2cb0d"
   }
  }
 },
 "nbformat": 4,
 "nbformat_minor": 2
}
