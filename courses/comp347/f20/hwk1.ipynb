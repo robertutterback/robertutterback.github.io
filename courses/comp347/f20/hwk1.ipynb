{
 "cells": [
  {
   "cell_type": "markdown",
   "metadata": {},
   "source": [
    "# Homework 1"
   ]
  },
  {
   "cell_type": "markdown",
   "metadata": {},
   "source": [
    "**Due Wednesday, September 2 by 2:00 PM**. Submit via email."
   ]
  },
  {
   "cell_type": "markdown",
   "metadata": {},
   "source": [
    "Some helpful setup code. Feel free to add whatever else you might need."
   ]
  },
  {
   "cell_type": "code",
   "execution_count": null,
   "metadata": {},
   "outputs": [],
   "source": [
    "import matplotlib.pyplot as plt\n",
    "import numpy as np\n",
    "import pandas as pd\n",
    "\n",
    "%matplotlib inline"
   ]
  },
  {
   "cell_type": "markdown",
   "metadata": {},
   "source": [
    "## Question 1\n",
    "\n",
    "Pick a graph from [Spurious Correlations](http://tylervigen.com/old-version.html) and recreate it using\n",
    "matplotlib, numpy and pandas. For whichever graph you choose, save the data in one or more CSV files and submit them with your assignment. Make sure your axes are labeled propertly."
   ]
  },
  {
   "cell_type": "code",
   "execution_count": null,
   "metadata": {},
   "outputs": [],
   "source": [
    "# Code here"
   ]
  },
  {
   "cell_type": "markdown",
   "metadata": {},
   "source": [
    "## Question 2\n",
    "\n",
    "Scikit-learn includes many datasets for playing with, one of which is `iris`. This dataset includes measures of many iris flowers, measured in centimeters: sepal length, sepal width, petal length, and petal width. (The sepal is just another part of the flower.) The dataset also includes the species of each flower measured (setosa, versicolor, or virginica).\n",
    "\n",
    "Often when we start with a new dataset we can to explore it visually to get a feel for it. `Pandas` provides us with a very quick and easy way to compare all the measurements to each other (A similar figure (and similar code) appears on page 20 of IMLP):"
   ]
  },
  {
   "cell_type": "code",
   "execution_count": null,
   "metadata": {},
   "outputs": [],
   "source": [
    "from sklearn.datasets import load_iris\n",
    "iris_dataset = load_iris()\n",
    "features = iris_dataset.feature_names\n",
    "data = iris_dataset.data\n",
    "targets = iris_dataset.target\n",
    "\n",
    "df = pd.DataFrame(data, columns=features)\n",
    "pd.plotting.scatter_matrix(df, c=targets, figsize=(15,15),\n",
    "                          marker='o', hist_kwds={'bins': 20}, s=60,\n",
    "                          alpha=.8);"
   ]
  },
  {
   "cell_type": "markdown",
   "metadata": {},
   "source": [
    "Create a pair-plot of the iris dataset similar to this figure **using only numpy and\n",
    "matplotlib** (you can use scikit-learn to load the data with sklearn.datasets.load_iris, **you are not\n",
    "allowed to use pandas**). Ensure all axes are labeled. The diagonals need to contain histograms,\n",
    "the different species need to be distinguished by color or glyph, and there needs to be a\n",
    "legend for the species."
   ]
  },
  {
   "cell_type": "code",
   "execution_count": null,
   "metadata": {},
   "outputs": [],
   "source": [
    "# Code here"
   ]
  },
  {
   "cell_type": "markdown",
   "metadata": {},
   "source": [
    "## Question 3\n",
    "\n",
    "Create an array of scatter plots on the boston housing dataset\n",
    "(`sklearn.datasets.load_boston`). This dataset contains 13 housing-related features of areas in Boston e.g., crime rate), along with a \"target\" value of median value of owner-occupied homes (MEDV). After loading the dataset, try `print(boston_dataset.DESCR)` for more info.\n",
    "\n",
    "For each feature, plot this feature against the target MEDV. Use\n",
    "alpha to cope with overplotting. Ensure everything is labeled properly and the resulting charts can\n",
    "easily be read and understood."
   ]
  },
  {
   "cell_type": "code",
   "execution_count": null,
   "metadata": {},
   "outputs": [],
   "source": [
    "# Code here"
   ]
  }
 ],
 "metadata": {
  "kernelspec": {
   "display_name": "Python 3",
   "language": "python",
   "name": "python3"
  },
  "language_info": {
   "codemirror_mode": {
    "name": "ipython",
    "version": 3
   },
   "file_extension": ".py",
   "mimetype": "text/x-python",
   "name": "python",
   "nbconvert_exporter": "python",
   "pygments_lexer": "ipython3",
   "version": "3.7.5"
  }
 },
 "nbformat": 4,
 "nbformat_minor": 2
}
